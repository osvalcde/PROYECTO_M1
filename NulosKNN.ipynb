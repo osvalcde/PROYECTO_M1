{
 "cells": [
  {
   "cell_type": "markdown",
   "metadata": {},
   "source": [
    "### Extra, reparación de valores nulos mediante KNN"
   ]
  },
  {
   "cell_type": "code",
   "execution_count": 3,
   "metadata": {},
   "outputs": [],
   "source": [
    "from sklearn.preprocessing import OneHotEncoder, StandardScaler\n",
    "from sklearn.model_selection import train_test_split, cross_val_score\n",
    "from sklearn.neighbors import KNeighborsRegressor\n",
    "from sklearn.metrics import mean_squared_error\n",
    "import matplotlib.pyplot as plt\n",
    "import numpy as np\n",
    "import pandas as pd"
   ]
  },
  {
   "cell_type": "code",
   "execution_count": 4,
   "metadata": {},
   "outputs": [
    {
     "name": "stdout",
     "output_type": "stream",
     "text": [
      "<class 'pandas.core.frame.DataFrame'>\n",
      "RangeIndex: 891 entries, 0 to 890\n",
      "Data columns (total 12 columns):\n",
      " #   Column       Non-Null Count  Dtype  \n",
      "---  ------       --------------  -----  \n",
      " 0   PassengerId  891 non-null    int64  \n",
      " 1   Survived     891 non-null    int64  \n",
      " 2   Pclass       891 non-null    int64  \n",
      " 3   Name         891 non-null    object \n",
      " 4   Sex          891 non-null    object \n",
      " 5   Age          714 non-null    float64\n",
      " 6   SibSp        891 non-null    int64  \n",
      " 7   Parch        891 non-null    int64  \n",
      " 8   Ticket       891 non-null    object \n",
      " 9   Fare         891 non-null    float64\n",
      " 10  Cabin        204 non-null    object \n",
      " 11  Embarked     889 non-null    object \n",
      "dtypes: float64(2), int64(5), object(5)\n",
      "memory usage: 83.7+ KB\n"
     ]
    }
   ],
   "source": [
    "#cargar el dataset\n",
    "df = pd.read_csv('datos/titanic.csv')#importar dataset\n",
    "df.info()#vericar "
   ]
  },
  {
   "cell_type": "code",
   "execution_count": 5,
   "metadata": {},
   "outputs": [],
   "source": [
    "# Siguiendo tu estrategia , creamos la columna lastname para guardar el apellido de los pasajeros\n",
    "df['LastName'] = df['Name'].apply(lambda x: x.split(',')[0])"
   ]
  },
  {
   "cell_type": "code",
   "execution_count": 21,
   "metadata": {},
   "outputs": [
    {
     "name": "stdout",
     "output_type": "stream",
     "text": [
      "<class 'pandas.core.frame.DataFrame'>\n",
      "RangeIndex: 891 entries, 0 to 890\n",
      "Data columns (total 13 columns):\n",
      " #   Column       Non-Null Count  Dtype  \n",
      "---  ------       --------------  -----  \n",
      " 0   PassengerId  891 non-null    int64  \n",
      " 1   Survived     891 non-null    int64  \n",
      " 2   Pclass       891 non-null    int64  \n",
      " 3   Name         891 non-null    object \n",
      " 4   Sex          891 non-null    object \n",
      " 5   Age          891 non-null    float64\n",
      " 6   SibSp        891 non-null    int64  \n",
      " 7   Parch        891 non-null    int64  \n",
      " 8   Ticket       891 non-null    object \n",
      " 9   Fare         891 non-null    float64\n",
      " 10  Cabin        204 non-null    object \n",
      " 11  Embarked     889 non-null    object \n",
      " 12  LastName     891 non-null    object \n",
      "dtypes: float64(2), int64(5), object(6)\n",
      "memory usage: 90.6+ KB\n"
     ]
    }
   ],
   "source": [
    "df.info()#vericar "
   ]
  },
  {
   "cell_type": "code",
   "execution_count": 7,
   "metadata": {},
   "outputs": [],
   "source": [
    "# Vamos a normalizar Fare para asegurarnos que no tenga un impacto desproporcionado en la distancia \n",
    "scaler = StandardScaler()\n",
    "df['Fare'] = scaler.fit_transform(df[['Fare']])"
   ]
  },
  {
   "cell_type": "code",
   "execution_count": 15,
   "metadata": {},
   "outputs": [],
   "source": [
    "# estas son las columnas que quieres como predictores para tu modelo\n",
    "columnas=['Survived', 'Pclass', 'SibSp', 'Parch', 'Fare', 'Embarked',\"Age\"] #la edad tiene que tenerse en cuenta al predecir, los apellidos es una variable muy random y ruidosa para introducirse\n",
    "\n",
    "# Aplicamos OneHotEncoder para codificar nuestras variables categóricas \n",
    "encoder = OneHotEncoder(drop='first', sparse_output=False)\n",
    "df_encoded = pd.DataFrame(encoder.fit_transform(df[columnas]))\n",
    "df_encoded.columns = encoder.get_feature_names_out(columnas)"
   ]
  },
  {
   "cell_type": "code",
   "execution_count": 16,
   "metadata": {},
   "outputs": [],
   "source": [
    "# Creamos dos dataframes basados en la presencia de Age\n",
    "df_encoded['Age'] = df['Age']\n",
    "df_with_age = df_encoded.dropna(subset=['Age'])\n",
    "df_without_age = df_encoded[df_encoded['Age'].isna()].drop(columns='Age')"
   ]
  },
  {
   "cell_type": "code",
   "execution_count": 17,
   "metadata": {},
   "outputs": [],
   "source": [
    "# Dividimos el conjunto de datos en un conjunto de entrenamiento y un conjunto de prueba\n",
    "X_train, X_test, y_train, y_test = train_test_split(df_with_age.drop(columns='Age'), df_with_age['Age'], test_size=0.2, random_state=357)"
   ]
  },
  {
   "cell_type": "code",
   "execution_count": 18,
   "metadata": {},
   "outputs": [
    {
     "name": "stdout",
     "output_type": "stream",
     "text": [
      "scores = [219.08405565 122.88157895 223.62027544 135.65153772 167.68399386]\n",
      "scores = [136.52994217  82.51329496 155.70730219 105.13201404 123.60082807]\n",
      "scores = [130.4628458   60.18006121 135.48813665 108.51132836 116.9991268 ]\n",
      "scores = [117.66245815  67.15095137 127.62349945 110.55036469 131.51371228]\n",
      "scores = [125.76203809  68.63970772 127.35082789 125.38223218 134.64002067]\n",
      "scores = [127.75953862  76.2862182  126.66201508 128.28372641 138.96856813]\n"
     ]
    },
    {
     "data": {
      "image/png": "[encoded data removed]",
      "text/plain": [
       "<Figure size 640x480 with 1 Axes>"
      ]
     },
     "metadata": {},
     "output_type": "display_data"
    }
   ],
   "source": [
    "# Lista para almacenar los valores de MSE (Error Cuadrático Medio)\n",
    "mse = []\n",
    "\n",
    "# Rango de k para probar\n",
    "k_range = range(1, 7)\n",
    "\n",
    "for k in k_range:\n",
    "    knn = KNeighborsRegressor(n_neighbors=k)\n",
    "    \n",
    "    # Realizamos la validación cruzada para obtener una medida más robusta del error\n",
    "    \"\"\"  estamos tomando el negativo de los valores devueltos para obtener el MSE real. \n",
    "         Luego, añadimos la media de estos valores a nuestra lista de MSE para cada valor de k (mse.append(scores.mean())).\n",
    "    \"\"\"\n",
    "    scores = -cross_val_score(knn, X_train, y_train, cv=5, scoring='neg_mean_squared_error')\n",
    "    mse.append(scores.mean())\n",
    "    print(f'scores = {scores}')\n",
    "    \n",
    " \n",
    "# Graficamos los valores \n",
    "plt.plot(k_range, mse)\n",
    "plt.xlabel('k')\n",
    "plt.ylabel('MSE')\n",
    "plt.title('Regla del codo para determinar el valor óptimo de k')\n",
    "plt.show()\n",
    "\n",
    "# Graficamos "
   ]
  },
  {
   "cell_type": "code",
   "execution_count": 19,
   "metadata": {},
   "outputs": [
    {
     "name": "stdout",
     "output_type": "stream",
     "text": [
      "Mejor número K: 3\n"
     ]
    }
   ],
   "source": [
    "# Determinar el mejor valor de k\n",
    "best_k = k_range[mse.index(min(mse))]\n",
    "print(f'Mejor número K: {best_k}')"
   ]
  },
  {
   "cell_type": "code",
   "execution_count": 20,
   "metadata": {},
   "outputs": [],
   "source": [
    "# Creamos el modelo KNN con el mejor valor de k\n",
    "knn = KNeighborsRegressor(n_neighbors=best_k)\n",
    "\n",
    "# Ajustamos el modelo a los datos sin valores nulos\n",
    "knn.fit(X_train, y_train)\n",
    "\n",
    "# Imputamos los valores faltantes en la columna 'Age'\n",
    "imputed_ages = knn.predict(df_without_age)\n",
    "df.loc[df['Age'].isna(), 'Age'] = imputed_ages"
   ]
  },
  {
   "cell_type": "code",
   "execution_count": 22,
   "metadata": {},
   "outputs": [],
   "source": [
    "df.to_csv('titanicKNN.csv', index=False)"
   ]
  }
 ],
 "metadata": {
  "kernelspec": {
   "display_name": "PROYECTO",
   "language": "python",
   "name": "python3"
  },
  "language_info": {
   "codemirror_mode": {
    "name": "ipython",
    "version": 3
   },
   "file_extension": ".py",
   "mimetype": "text/x-python",
   "name": "python",
   "nbconvert_exporter": "python",
   "pygments_lexer": "ipython3",
   "version": "3.9.5"
  }
 },
 "nbformat": 4,
 "nbformat_minor": 2
}
